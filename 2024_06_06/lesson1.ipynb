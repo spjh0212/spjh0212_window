{
 "cells": [
  {
   "cell_type": "code",
   "execution_count": 4,
   "metadata": {},
   "outputs": [
    {
     "data": {
      "text/plain": [
       "[25, 15, 9, 7, 3]"
      ]
     },
     "execution_count": 4,
     "metadata": {},
     "output_type": "execute_result"
    }
   ],
   "source": [
    "li1 = [3, 15, 7, 9, 25]\n",
    "li1.sort(reverse=True)\n",
    "li1"
   ]
  },
  {
   "cell_type": "code",
   "execution_count": 6,
   "metadata": {},
   "outputs": [
    {
     "data": {
      "text/plain": [
       "[3, 7, 9, 15, 25]"
      ]
     },
     "execution_count": 6,
     "metadata": {},
     "output_type": "execute_result"
    }
   ],
   "source": [
    "li2 = [3, 15, 7, 9, 25]\n",
    "new_li2 = sorted(li2)\n",
    "new_li2"
   ]
  },
  {
   "cell_type": "code",
   "execution_count": 9,
   "metadata": {},
   "outputs": [
    {
     "data": {
      "text/plain": [
       "[{'name': 'Dave', 'age': 35},\n",
       " {'name': 'John', 'age': 30},\n",
       " {'name': 'Jane', 'age': 25}]"
      ]
     },
     "execution_count": 9,
     "metadata": {},
     "output_type": "execute_result"
    }
   ],
   "source": [
    "people = [\n",
    "    {\"name\": \"John\", \"age\": 30},\n",
    "    {\"name\": \"Jane\", \"age\": 25},\n",
    "    {\"name\": \"Dave\", \"age\": 35}\n",
    "]\n",
    "\n",
    "def sort_key(value:dict)->int:\n",
    "    return value['age']\n",
    "\n",
    "new_people = sorted(people,key=sort_key,reverse=True)\n",
    "new_people\n"
   ]
  },
  {
   "cell_type": "code",
   "execution_count": 11,
   "metadata": {},
   "outputs": [
    {
     "data": {
      "text/plain": [
       "[{'name': 'Dave', 'age': 35},\n",
       " {'name': 'John', 'age': 30},\n",
       " {'name': 'Jane', 'age': 25}]"
      ]
     },
     "execution_count": 11,
     "metadata": {},
     "output_type": "execute_result"
    }
   ],
   "source": [
    "people = [\n",
    "    {\"name\": \"John\", \"age\": 30},\n",
    "    {\"name\": \"Jane\", \"age\": 25},\n",
    "    {\"name\": \"Dave\", \"age\": 35}\n",
    "]\n",
    "\n",
    "\n",
    "#lambda -> 暱名的function\n",
    "new_people = sorted(people,key=lambda value:value['age'],reverse=True)\n",
    "new_people\n"
   ]
  },
  {
   "cell_type": "code",
   "execution_count": 13,
   "metadata": {},
   "outputs": [
    {
     "data": {
      "text/plain": [
       "41320"
      ]
     },
     "execution_count": 13,
     "metadata": {},
     "output_type": "execute_result"
    }
   ],
   "source": [
    "from datetime import datetime\n",
    "\n",
    "now = datetime.now()\n",
    "diff = now-datetime(2024,6,6)\n",
    "diff.seconds"
   ]
  },
  {
   "cell_type": "code",
   "execution_count": 1,
   "metadata": {},
   "outputs": [
    {
     "name": "stdout",
     "output_type": "stream",
     "text": [
      "我是第1元素\n",
      "我是第2元素\n",
      "我是第3元素\n",
      "我是第4元素\n",
      "我是第5元素\n"
     ]
    }
   ],
   "source": [
    "#使用map()\n",
    "def square(x):\n",
    "    return f'我是第{x}元素'\n",
    "numbers = [1, 2, 3, 4, 5]\n",
    "str_list:list[str] = list(map(square,numbers))\n",
    "print(\"\\n\".join(str_list))"
   ]
  }
 ],
 "metadata": {
  "kernelspec": {
   "display_name": "venv1",
   "language": "python",
   "name": "python3"
  },
  "language_info": {
   "codemirror_mode": {
    "name": "ipython",
    "version": 3
   },
   "file_extension": ".py",
   "mimetype": "text/x-python",
   "name": "python",
   "nbconvert_exporter": "python",
   "pygments_lexer": "ipython3",
   "version": "3.12.3"
  }
 },
 "nbformat": 4,
 "nbformat_minor": 2
}
