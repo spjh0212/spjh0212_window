{
 "cells": [
  {
   "cell_type": "code",
   "execution_count": 5,
   "metadata": {},
   "outputs": [
    {
     "name": "stdout",
     "output_type": "stream",
     "text": [
      "我的名字:chen\n",
      "我的年齡:33\n",
      "\n"
     ]
    }
   ],
   "source": [
    "class person():\n",
    "    def __init__(self,name:str,age:int):\n",
    "        self.__name=name\n",
    "        self.age=age\n",
    "\n",
    "    def __repr__(self):\n",
    "        message=''\n",
    "        message+=f'我的名字:{self.name}\\n'\n",
    "        message+=f'我的年齡:{self.age}\\n'\n",
    "        return message\n",
    "    \n",
    "    @property\n",
    "    def name(self)->str:\n",
    "        return self.__name\n",
    "    \n",
    "p1:person=person(age=25,name='chen')\n",
    "print(p1)"
   ]
  }
 ],
 "metadata": {
  "kernelspec": {
   "display_name": "myenv",
   "language": "python",
   "name": "python3"
  },
  "language_info": {
   "codemirror_mode": {
    "name": "ipython",
    "version": 3
   },
   "file_extension": ".py",
   "mimetype": "text/x-python",
   "name": "python",
   "nbconvert_exporter": "python",
   "pygments_lexer": "ipython3",
   "version": "3.12.3"
  }
 },
 "nbformat": 4,
 "nbformat_minor": 2
}
