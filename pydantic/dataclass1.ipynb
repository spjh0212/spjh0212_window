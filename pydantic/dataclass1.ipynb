{
 "cells": [
  {
   "cell_type": "code",
   "execution_count": 5,
   "metadata": {},
   "outputs": [
    {
     "name": "stdout",
     "output_type": "stream",
     "text": [
      "我的名字:chen\n",
      "我的年齡:33\n",
      "\n"
     ]
    }
   ],
   "source": [
    "class person():\n",
    "    def __init__(self,name:str,age:int):\n",
    "        self.__name=name\n",
    "        self.age=age\n",
    "\n",
    "    def __repr__(self):\n",
    "        message=''\n",
    "        message+=f'我的名字:{self.name}\\n'\n",
    "        message+=f'我的年齡:{self.age}\\n'\n",
    "        return message\n",
    "    \n",
    "    @property\n",
    "    def name(self)->str:\n",
    "        return self.__name\n",
    "    \n",
    "p1:person=person(age=25,name='chen')\n",
    "print(p1)"
   ]
  },
  {
   "cell_type": "code",
   "execution_count": 7,
   "metadata": {},
   "outputs": [
    {
     "name": "stdout",
     "output_type": "stream",
     "text": [
      "及格\n",
      "<bound method student.get_level of 我的名字:chen\n",
      "我的年齡:26\n",
      ">\n"
     ]
    }
   ],
   "source": [
    "class student(person):\n",
    "\n",
    "    @classmethod\n",
    "    def get_student(cls,name:str,age:int,score:int):\n",
    "        return student(name=name,age=age,score=score)\n",
    "\n",
    "    def __init__(self,name:str,age:int,score:int):\n",
    "        super().__init__(name,age)\n",
    "        self.score=score\n",
    "    \n",
    "    def get_level(self)->str:\n",
    "        if self.score >= 60:\n",
    "            return '及格'\n",
    "        else:\n",
    "            return \"布吉個\"\n",
    "        \n",
    "#透過init建立\n",
    "s1=student(name='chen',age=23,score=80)\n",
    "print(s1.get_level())\n",
    "\n",
    "#透過classmethod建立實體\n",
    "s2=student.get_student('chen',26,90)\n",
    "print(s2.get_level)"
   ]
  }
 ],
 "metadata": {
  "kernelspec": {
   "display_name": "myenv",
   "language": "python",
   "name": "python3"
  },
  "language_info": {
   "codemirror_mode": {
    "name": "ipython",
    "version": 3
   },
   "file_extension": ".py",
   "mimetype": "text/x-python",
   "name": "python",
   "nbconvert_exporter": "python",
   "pygments_lexer": "ipython3",
   "version": "3.12.3"
  }
 },
 "nbformat": 4,
 "nbformat_minor": 2
}
