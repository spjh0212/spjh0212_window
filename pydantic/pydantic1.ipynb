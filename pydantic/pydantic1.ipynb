{
 "cells": [
  {
   "cell_type": "code",
   "execution_count": 5,
   "metadata": {},
   "outputs": [],
   "source": [
    "from pydantic import BaseModel\n",
    "\n",
    "class inventoryitem(BaseModel):\n",
    "    'class for keeping track of an item in inventory.'\n",
    "    name:str\n",
    "    unit_price:float\n",
    "    quantity_on_hand:int=0"
   ]
  },
  {
   "cell_type": "code",
   "execution_count": 6,
   "metadata": {},
   "outputs": [
    {
     "name": "stdout",
     "output_type": "stream",
     "text": [
      "name='phone' unit_price=1000.0 quantity_on_hand=0\n",
      "phone\n",
      "1000.0\n",
      "0\n"
     ]
    }
   ],
   "source": [
    "item1=inventoryitem(name='phone',unit_price=1000)\n",
    "print(item1)\n",
    "print(item1.name)\n",
    "print(item1.unit_price)\n",
    "print(item1.quantity_on_hand)"
   ]
  }
 ],
 "metadata": {
  "kernelspec": {
   "display_name": "myenv",
   "language": "python",
   "name": "python3"
  },
  "language_info": {
   "codemirror_mode": {
    "name": "ipython",
    "version": 3
   },
   "file_extension": ".py",
   "mimetype": "text/x-python",
   "name": "python",
   "nbconvert_exporter": "python",
   "pygments_lexer": "ipython3",
   "version": "3.12.3"
  }
 },
 "nbformat": 4,
 "nbformat_minor": 2
}
