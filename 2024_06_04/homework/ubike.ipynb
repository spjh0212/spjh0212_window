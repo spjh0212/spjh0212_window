{
 "cells": [
  {
   "cell_type": "code",
   "execution_count": 1,
   "metadata": {},
   "outputs": [],
   "source": [
    "import requests\n",
    "from  requests import JSONDecodeError\n",
    "from pprint import pprint\n",
    "def download_json()->dict[any]:\n",
    "    ubike_url = 'https://tcgbusfs.blob.core.windows.net/dotapp/youbike/v2/youbike_immediate.json'\n",
    "    try:\n",
    "        response = requests.get(ubike_url)\n",
    "    except Exception:\n",
    "        raise Exception(\"連線失敗\")\n",
    "    else:\n",
    "        if response.status_code == 200:\n",
    "            try:\n",
    "                all_data:dict[any] = response.json()\n",
    "                return all_data\n",
    "            except JSONDecodeError:\n",
    "                raise Exception(\"api_key為測試用,連線已至上限,請稍後再試\")\n",
    "        else:\n",
    "            raise Exception(\"下載狀態碼不是200\")"
   ]
  },
  {
   "cell_type": "code",
   "execution_count": 3,
   "metadata": {},
   "outputs": [
    {
     "name": "stdout",
     "output_type": "stream",
     "text": [
      "連線失敗\n"
     ]
    }
   ],
   "source": [
    "try:\n",
    "    all_data:dict[any] = download_json()\n",
    "    pprint(all_data)\n",
    "except Exception as error:\n",
    "    print(error)"
   ]
  },
  {
   "cell_type": "code",
   "execution_count": null,
   "metadata": {},
   "outputs": [],
   "source": [
    "from pydantic import BaseModel,RootModel,Field,field_validator\n",
    "import datetime\n",
    "\n",
    "class UBikeStation(BaseModel):\n",
    "    sna:str\n",
    "    sarea:str\n",
    "    mday:datetime\n",
    "    ar:str\n",
    "    act:int\n",
    "    total:int\n",
    "    available_rent_bikes:int\n",
    "    latitude:float\n",
    "    longitude:float\n",
    "    available_return_bikes:int\n",
    "    updateTime:datetime\n",
    "\n",
    "    @field_validator(\"latitude\",'longitude',mode='before')\n",
    "    @classmethod\n",
    "    def abc(cls, value:str)->str:\n",
    "        if value==\"\":\n",
    "            return \"0.0\"\n",
    "        else:\n",
    "            return value\n",
    "\n",
    "class Records(RootModel):\n",
    "    root:list[UBikeStation]\n",
    "\n",
    "records:Records = Records.model_validate(all_data)\n",
    "\n",
    "data:list[dict] = records.model_dump()"
   ]
  },
  {
   "cell_type": "code",
   "execution_count": null,
   "metadata": {},
   "outputs": [],
   "source": [
    "data"
   ]
  }
 ],
 "metadata": {
  "kernelspec": {
   "display_name": "myenv",
   "language": "python",
   "name": "python3"
  },
  "language_info": {
   "codemirror_mode": {
    "name": "ipython",
    "version": 3
   },
   "file_extension": ".py",
   "mimetype": "text/x-python",
   "name": "python",
   "nbconvert_exporter": "python",
   "pygments_lexer": "ipython3",
   "version": "3.12.3"
  }
 },
 "nbformat": 4,
 "nbformat_minor": 2
}
