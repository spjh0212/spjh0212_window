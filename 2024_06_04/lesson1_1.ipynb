{
 "cells": [
  {
   "cell_type": "code",
   "execution_count": 1,
   "metadata": {},
   "outputs": [
    {
     "name": "stdout",
     "output_type": "stream",
     "text": [
      "HTTPSConnectionPool(host='data.moenv.gov.tw', port=443): Max retries exceeded with url: /api/v2/aqx_p_488?api_key=e8dd42e6-9b8b-43f8-991e-b3dee723a52d&limit=1000&sort=datacreationdate%20desc&format=JSON (Caused by NameResolutionError(\"<urllib3.connection.HTTPSConnection object at 0x10f3b6810>: Failed to resolve 'data.moenv.gov.tw' ([Errno 8] nodename nor servname provided, or not known)\"))\n"
     ]
    }
   ],
   "source": [
    "import requests\n",
    "from pprint import pprint\n",
    "aqi_url = 'https://data.moenv.gov.tw/api/v2/aqx_p_488?api_key=e8dd42e6-9b8b-43f8-991e-b3dee723a52d&limit=1000&sort=datacreationdate desc&format=JSON'\n",
    "try:\n",
    "    response = requests.get(aqi_url)\n",
    "except Exception as error:\n",
    "    print(error)\n",
    "else:\n",
    "    if response.status_code == 200:\n",
    "        all_data:dict[any] = response.json()\n",
    "        pprint(all_data)\n",
    "    else:\n",
    "        print(\"下載狀態碼不是200\")\n"
   ]
  },
  {
   "cell_type": "code",
   "execution_count": 1,
   "metadata": {},
   "outputs": [
    {
     "name": "stdout",
     "output_type": "stream",
     "text": [
      "HTTPSConnectionPool(host='data.moenv.gov.tw', port=443): Max retries exceeded with url: /api/v2/aqx_p_488?api_key=e8dd42e6-9b8b-43f8-991e-b3dee723a52d&limit=1000&sort=datacreationdate%20desc&format=JSON (Caused by NameResolutionError(\"<urllib3.connection.HTTPSConnection object at 0x10d77df70>: Failed to resolve 'data.moenv.gov.tw' ([Errno 8] nodename nor servname provided, or not known)\"))\n"
     ]
    }
   ],
   "source": [
    "import requests\n",
    "from  requests import JSONDecodeError\n",
    "\n",
    "from pprint import pprint\n",
    "aqi_url = 'https://data.moenv.gov.tw/api/v2/aqx_p_488?api_key=e8dd42e6-9b8b-43f8-991e-b3dee723a52d&limit=1000&sort=datacreationdate desc&format=JSON'\n",
    "try:\n",
    "    response = requests.get(aqi_url)\n",
    "except Exception as error:\n",
    "    print(error)\n",
    "else:\n",
    "    if response.status_code == 200:\n",
    "        try:\n",
    "            all_data:dict[any] = response.json()\n",
    "            pprint(all_data)\n",
    "        except JSONDecodeError:\n",
    "            print(\"api_key為測試用,連線已至上限,請稍後再試\")\n",
    "    else:\n",
    "        print(\"下載狀態碼不是200\")"
   ]
  },
  {
   "cell_type": "code",
   "execution_count": 5,
   "metadata": {},
   "outputs": [],
   "source": [
    "import requests\n",
    "from  requests import JSONDecodeError\n",
    "from pprint import pprint\n",
    "def download_json()->dict[any]:\n",
    "    aqi_url = 'https://data.moenv.gov.tw/api/v2/aqx_p_488?api_key=e8dd42e6-9b8b-43f8-991e-b3dee723a52d&limit=1000&sort=datacreationdate desc&format=JSON'\n",
    "    try:\n",
    "        response = requests.get(aqi_url)\n",
    "    except Exception:\n",
    "        raise Exception(\"連線失敗\")\n",
    "    else:\n",
    "        if response.status_code == 200:\n",
    "            try:\n",
    "                all_data:dict[any] = response.json()\n",
    "                return all_data\n",
    "            except JSONDecodeError:\n",
    "                raise Exception(\"api_key為測試用,連線已至上限,請稍後再試\")\n",
    "        else:\n",
    "            raise Exception(\"下載狀態碼不是200\")"
   ]
  },
  {
   "cell_type": "code",
   "execution_count": 6,
   "metadata": {},
   "outputs": [
    {
     "name": "stdout",
     "output_type": "stream",
     "text": [
      "連線失敗\n"
     ]
    }
   ],
   "source": [
    "try:\n",
    "    all_data:dict[any] = download_json()\n",
    "    pprint(all_data)\n",
    "except Exception as error:\n",
    "    print(error)"
   ]
  },
  {
   "cell_type": "code",
   "execution_count": null,
   "metadata": {},
   "outputs": [],
   "source": [
    "from pydantic import BaseModel,RootModel,Field\n",
    "\n",
    "class Site(BaseModel):\n",
    "    site_name:str = Field(alias='sitename')\n",
    "    county:str\n",
    "    aqi:int\n",
    "    status:str\n",
    "\n",
    "class Records(RootModel):\n",
    "    root:list[Site]\n",
    "\n",
    "records:Records = Records.model_validate(all_data['records'])\n",
    "\n",
    "data = records.model_dump()"
   ]
  },
  {
   "cell_type": "code",
   "execution_count": 1,
   "metadata": {},
   "outputs": [
    {
     "ename": "NameError",
     "evalue": "name 'all_data' is not defined",
     "output_type": "error",
     "traceback": [
      "\u001b[0;31m---------------------------------------------------------------------------\u001b[0m",
      "\u001b[0;31mNameError\u001b[0m                                 Traceback (most recent call last)",
      "Cell \u001b[0;32mIn[1], line 22\u001b[0m\n\u001b[1;32m     19\u001b[0m \u001b[38;5;28;01mclass\u001b[39;00m \u001b[38;5;21;01mRecords\u001b[39;00m(RootModel):\n\u001b[1;32m     20\u001b[0m     root:\u001b[38;5;28mlist\u001b[39m[Site]\n\u001b[0;32m---> 22\u001b[0m records:Records \u001b[38;5;241m=\u001b[39m Records\u001b[38;5;241m.\u001b[39mmodel_validate(all_data[records])\n\u001b[1;32m     24\u001b[0m data \u001b[38;5;241m=\u001b[39m records\u001b[38;5;241m.\u001b[39mmodel_dump()\n",
      "\u001b[0;31mNameError\u001b[0m: name 'all_data' is not defined"
     ]
    }
   ],
   "source": [
    "from pydantic import BaseModel,RootModel,Field,field_validator\n",
    "\n",
    "class Site(BaseModel):\n",
    "    site_name:str = Field(alias='sitename')\n",
    "    county:str\n",
    "    aqi:int\n",
    "    status:str\n",
    "    pm25:float = Field(alias='pm2.5')\n",
    "\n",
    "    @field_validator(\"pm25\",mode='before')\n",
    "    @classmethod\n",
    "    def abc(cls, value:str)->str:\n",
    "        if value==\"\":\n",
    "            return \"0.0\"\n",
    "        else:\n",
    "            return value\n",
    "\n",
    "\n",
    "class Records(RootModel):\n",
    "    root:list[Site]\n",
    "\n",
    "records:Records = Records.model_validate(all_data['records'])\n",
    "\n",
    "data = records.model_dump()"
   ]
  },
  {
   "cell_type": "code",
   "execution_count": null,
   "metadata": {},
   "outputs": [],
   "source": [
    "data"
   ]
  }
 ],
 "metadata": {
  "kernelspec": {
   "display_name": "myenv",
   "language": "python",
   "name": "python3"
  },
  "language_info": {
   "codemirror_mode": {
    "name": "ipython",
    "version": 3
   },
   "file_extension": ".py",
   "mimetype": "text/x-python",
   "name": "python",
   "nbconvert_exporter": "python",
   "pygments_lexer": "ipython3",
   "version": "3.12.3"
  }
 },
 "nbformat": 4,
 "nbformat_minor": 2
}
