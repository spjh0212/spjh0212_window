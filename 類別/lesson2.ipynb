{
 "cells": [
  {
   "cell_type": "code",
   "execution_count": 49,
   "metadata": {},
   "outputs": [
    {
     "name": "stdout",
     "output_type": "stream",
     "text": [
      "<class '__main__.person'>\n",
      "p1.name=yichen\n",
      "p2.name=chen\n"
     ]
    }
   ],
   "source": [
    "class person():\n",
    "    def __init__(self,n:str):\n",
    "        self.name = n\n",
    "    \n",
    "    def __repr__(self):\n",
    "        return f'我是person的實體,我的名字是:{self.name}'\n",
    "\n",
    "p1:person=person(n='yichen')\n",
    "print(type(p1))\n",
    "print(f'p1.name={p1.name}')\n",
    "\n",
    "p2:person=person(n='chen')\n",
    "print(f'p2.name={p2.name}')"
   ]
  },
  {
   "cell_type": "code",
   "execution_count": 41,
   "metadata": {},
   "outputs": [
    {
     "name": "stdout",
     "output_type": "stream",
     "text": [
      "yichen\n",
      "chen\n"
     ]
    }
   ],
   "source": [
    "class student(person):\n",
    "    def __init__(self,name:str,chinese:int,english:int,math:int):\n",
    "        super().__init__(n=name)\n",
    "        self.chinese=chinese\n",
    "        self.english=english\n",
    "        self.math=math\n",
    "\n",
    "    def __repr__(self):\n",
    "        message=f\"我是student的實體,我的名字是:{self.name}\\n\"\n",
    "        message+=f\"國文分數:{self.chinese}\\n\"\n",
    "        message+=f\"英文分數:{self.english}\\n\"\n",
    "        message+=f'數學分數:{self.math}\\n'\n",
    "        return message\n",
    "\n",
    "s1:student=student(name='yichen',chinese=60,english=90,math=80)\n",
    "print(s1.name)\n",
    "\n",
    "s2:student=student(name='chen',chinese=80,math=80,english=70)\n",
    "print(s2.name)"
   ]
  },
  {
   "cell_type": "code",
   "execution_count": 50,
   "metadata": {},
   "outputs": [
    {
     "name": "stdout",
     "output_type": "stream",
     "text": [
      "我是person的實體,我的名字是:yichen\n",
      "我是student的實體,我的名字是:yichen\n",
      "國文分數:60\n",
      "英文分數:90\n",
      "數學分數:80\n",
      "\n",
      "我是person的實體,我的名字是:chen\n",
      "我是student的實體,我的名字是:chen\n",
      "國文分數:80\n",
      "英文分數:70\n",
      "數學分數:80\n",
      "\n"
     ]
    }
   ],
   "source": [
    "print(p1)\n",
    "print(s1)\n",
    "\n",
    "print(p2)\n",
    "print(s2)"
   ]
  }
 ],
 "metadata": {
  "kernelspec": {
   "display_name": "Python 3",
   "language": "python",
   "name": "python3"
  },
  "language_info": {
   "codemirror_mode": {
    "name": "ipython",
    "version": 3
   },
   "file_extension": ".py",
   "mimetype": "text/x-python",
   "name": "python",
   "nbconvert_exporter": "python",
   "pygments_lexer": "ipython3",
   "version": "3.12.3"
  }
 },
 "nbformat": 4,
 "nbformat_minor": 2
}
